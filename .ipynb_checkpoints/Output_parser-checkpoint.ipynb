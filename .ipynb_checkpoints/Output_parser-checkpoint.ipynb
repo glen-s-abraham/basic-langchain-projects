{
 "cells": [
  {
   "cell_type": "code",
   "execution_count": 1,
   "id": "81e392e7-b0bd-43cb-90b6-adeab2aec041",
   "metadata": {},
   "outputs": [
    {
     "data": {
      "text/plain": [
       "True"
      ]
     },
     "execution_count": 1,
     "metadata": {},
     "output_type": "execute_result"
    }
   ],
   "source": [
    "import os\n",
    "from dotenv import load_dotenv,find_dotenv\n",
    "load_dotenv(find_dotenv())"
   ]
  },
  {
   "cell_type": "code",
   "execution_count": 2,
   "id": "bec98725-181f-495c-8b2e-c89e32f13e37",
   "metadata": {},
   "outputs": [],
   "source": [
    "from langchain.llms import OpenAI\n",
    "from langchain.prompts import PromptTemplate\n",
    "from langchain.output_parsers import CommaSeparatedListOutputParser\n",
    "llm=OpenAI(model='text-davinci-003')"
   ]
  },
  {
   "cell_type": "code",
   "execution_count": 3,
   "id": "66360852-694f-4360-94ba-ea402db8f57d",
   "metadata": {},
   "outputs": [
    {
     "data": {
      "text/plain": [
       "'Your response should be a list of comma separated values, eg: `foo, bar, baz`'"
      ]
     },
     "execution_count": 3,
     "metadata": {},
     "output_type": "execute_result"
    }
   ],
   "source": [
    "output_parser = CommaSeparatedListOutputParser()\n",
    "format_instructions = output_parser.get_format_instructions()\n",
    "format_instructions"
   ]
  },
  {
   "cell_type": "code",
   "execution_count": 5,
   "id": "881f7eeb-02dc-4bc8-b33c-17067769c225",
   "metadata": {},
   "outputs": [],
   "source": [
    "prompt = PromptTemplate(input_variables=['query'],partial_variables={'format_instructions':format_instructions},template=\"Provide 5 examples of {query}.\\n {format_instructions}\")"
   ]
  },
  {
   "cell_type": "code",
   "execution_count": 6,
   "id": "e8a8db7d-9175-414c-a991-1b231c08656f",
   "metadata": {},
   "outputs": [
    {
     "name": "stdout",
     "output_type": "stream",
     "text": [
      "Provide 5 examples of currencies.\n",
      " Your response should be a list of comma separated values, eg: `foo, bar, baz`\n"
     ]
    }
   ],
   "source": [
    "print(prompt.format(query='currencies'))"
   ]
  },
  {
   "cell_type": "code",
   "execution_count": 7,
   "id": "64fea083-daba-41e1-812c-80dbf0848f47",
   "metadata": {},
   "outputs": [
    {
     "name": "stdout",
     "output_type": "stream",
     "text": [
      "\n",
      "\n",
      "US Dollar, Euro, British Pound, Japanese Yen, Swiss Franc\n"
     ]
    }
   ],
   "source": [
    "print(llm(prompt.format(query='currencies')))"
   ]
  },
  {
   "cell_type": "code",
   "execution_count": 8,
   "id": "d11298c6-1d78-4dee-8f53-1e3d000e71af",
   "metadata": {},
   "outputs": [],
   "source": [
    "from langchain.output_parsers import StructuredOutputParser,ResponseSchema"
   ]
  },
  {
   "cell_type": "code",
   "execution_count": 9,
   "id": "f78340cc-c8c5-41c9-8f88-a0896334a01d",
   "metadata": {},
   "outputs": [],
   "source": [
    "response_schemas = [\n",
    "    ResponseSchema(name='currency',description=\"answer to the user's question\"),\n",
    "    ResponseSchema(name='abbreviation',description=\"What is the abbreviation of the currency\")\n",
    "]\n",
    "json_parser = StructuredOutputParser.from_response_schemas(response_schemas=response_schemas)"
   ]
  }
 ],
 "metadata": {
  "kernelspec": {
   "display_name": "Python 3 (ipykernel)",
   "language": "python",
   "name": "python3"
  },
  "language_info": {
   "codemirror_mode": {
    "name": "ipython",
    "version": 3
   },
   "file_extension": ".py",
   "mimetype": "text/x-python",
   "name": "python",
   "nbconvert_exporter": "python",
   "pygments_lexer": "ipython3",
   "version": "3.10.12"
  }
 },
 "nbformat": 4,
 "nbformat_minor": 5
}
