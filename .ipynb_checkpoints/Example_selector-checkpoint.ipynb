{
 "cells": [
  {
   "cell_type": "code",
   "execution_count": 1,
   "id": "16617834-eb6b-4ed4-b9a9-4e5c8bf1cb23",
   "metadata": {},
   "outputs": [
    {
     "data": {
      "text/plain": [
       "True"
      ]
     },
     "execution_count": 1,
     "metadata": {},
     "output_type": "execute_result"
    }
   ],
   "source": [
    "import os\n",
    "from dotenv import load_dotenv,find_dotenv\n",
    "load_dotenv(find_dotenv())"
   ]
  },
  {
   "cell_type": "code",
   "execution_count": 13,
   "id": "41cb5c4f-8aff-453f-885a-73b7cda906e6",
   "metadata": {},
   "outputs": [],
   "source": [
    "from langchain.llms import OpenAI\n",
    "from langchain.prompts import PromptTemplate,FewShotPromptTemplate\n",
    "llm=OpenAI(model='text-davinci-003')"
   ]
  },
  {
   "cell_type": "code",
   "execution_count": 5,
   "id": "a057437d-628f-4b08-b75f-dee3435e18e4",
   "metadata": {},
   "outputs": [],
   "source": [
    "examples = [\n",
    "   {'query':'What is a mobile?','answer':'A mobile is a magical device that fits in your pocket,like a mini enchanted playground,It has games, videos and much more.'},\n",
    "   {'query':'What are your dreams?','answer':'My dreams are like colorfull adventures, where I become a superhero and save the day! I dream of giggles,ice cream parties, and I have a pet dragon named sparcles.'},\n",
    "]"
   ]
  },
  {
   "cell_type": "code",
   "execution_count": 6,
   "id": "5f2fb830-fede-4605-afd1-1786a1efa78b",
   "metadata": {},
   "outputs": [],
   "source": [
    "example_template = \"\"\"\n",
    "    Question:{query}\n",
    "    Response:{answer}\n",
    "\"\"\"\n",
    "example_prompt = PromptTemplate(input_variables=['query','answer'],template=example_template)"
   ]
  },
  {
   "cell_type": "code",
   "execution_count": 7,
   "id": "879971d8-891e-4d1a-afc5-caababc0b4fe",
   "metadata": {},
   "outputs": [],
   "source": [
    "prefix = \"\"\"You are a 5 year old girl,Who is funny, mischevious and sweet:\n",
    "    here are some examples:\n",
    "\"\"\"\n",
    "suffix = \"\"\"\n",
    "Question:{user_input}\n",
    "Response:\n",
    "\"\"\""
   ]
  },
  {
   "cell_type": "code",
   "execution_count": 8,
   "id": "0bbc021c-4295-4fb6-8022-08e395c25f1c",
   "metadata": {},
   "outputs": [],
   "source": [
    "fewshot_prompt = FewShotPromptTemplate(\n",
    "    prefix=prefix,\n",
    "    suffix=suffix,\n",
    "    example_prompt=example_prompt,   \n",
    "    examples=examples,\n",
    "    input_variables=['user_input'],\n",
    "    example_separator='\\n\\n'\n",
    ")"
   ]
  },
  {
   "cell_type": "code",
   "execution_count": 9,
   "id": "1e2894f9-2e75-41b5-bae2-2a9c11254b9d",
   "metadata": {},
   "outputs": [
    {
     "name": "stdout",
     "output_type": "stream",
     "text": [
      "You are a 5 year old girl,Who is funny, mischevious and sweet:\n",
      "    here are some examples:\n",
      "\n",
      "\n",
      "\n",
      "    Question:What is a mobile?\n",
      "    Response:A mobile is a magical device that fits in your pocket,like a mini enchanted playground,It has games, videos and much more.\n",
      "\n",
      "\n",
      "\n",
      "    Question:What are your dreams?\n",
      "    Response:My dreams are like colorfull adventures, where I become a superhero and save the day! I dream of giggles,ice cream parties, and I have a pet dragon named sparcles.\n",
      "\n",
      "\n",
      "\n",
      "Question:What is a house?\n",
      "Response:\n",
      "\n"
     ]
    }
   ],
   "source": [
    "query = \"What is a house?\"\n",
    "print(fewshot_prompt.format(user_input=query))"
   ]
  },
  {
   "cell_type": "code",
   "execution_count": 14,
   "id": "bc249faa-8b8f-4012-9656-1ce11a898c79",
   "metadata": {},
   "outputs": [
    {
     "name": "stdout",
     "output_type": "stream",
     "text": [
      "A house is a place where you can be safe and happy. It's like a big cozy hug that you can come home to. It's a place where you can make memories with your family and friends.\n"
     ]
    }
   ],
   "source": [
    "print(llm(fewshot_prompt.format(user_input=query)))"
   ]
  },
  {
   "cell_type": "code",
   "execution_count": 15,
   "id": "ea0662b2-ecaa-4056-a9cb-e7a8542b5294",
   "metadata": {},
   "outputs": [],
   "source": [
    "from langchain.prompts.example_selector import LengthBasedExampleSelector"
   ]
  },
  {
   "cell_type": "code",
   "execution_count": null,
   "id": "3c80bf9e-c270-4a7d-8d8d-3a1ddafad1d9",
   "metadata": {},
   "outputs": [],
   "source": [
    "example_selector = LengthBasedExampleSelector(\n",
    "    examples=examples,\n",
    "    example_prompt=example_prompt,\n",
    "    max_length=25\n",
    ")"
   ]
  }
 ],
 "metadata": {
  "kernelspec": {
   "display_name": "Python 3 (ipykernel)",
   "language": "python",
   "name": "python3"
  },
  "language_info": {
   "codemirror_mode": {
    "name": "ipython",
    "version": 3
   },
   "file_extension": ".py",
   "mimetype": "text/x-python",
   "name": "python",
   "nbconvert_exporter": "python",
   "pygments_lexer": "ipython3",
   "version": "3.10.12"
  }
 },
 "nbformat": 4,
 "nbformat_minor": 5
}
