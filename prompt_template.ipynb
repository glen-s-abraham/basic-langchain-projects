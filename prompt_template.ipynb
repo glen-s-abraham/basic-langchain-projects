{
 "cells": [
  {
   "cell_type": "code",
   "execution_count": 1,
   "id": "49d6a3fc-b4c3-4387-9ba0-3dbff48c19d8",
   "metadata": {},
   "outputs": [
    {
     "data": {
      "text/plain": [
       "True"
      ]
     },
     "execution_count": 1,
     "metadata": {},
     "output_type": "execute_result"
    }
   ],
   "source": [
    "import os\n",
    "from dotenv import load_dotenv,find_dotenv\n",
    "load_dotenv(find_dotenv())"
   ]
  },
  {
   "cell_type": "code",
   "execution_count": 3,
   "id": "d576faf5-f5da-4588-964c-c957f651be0b",
   "metadata": {},
   "outputs": [],
   "source": [
    "from langchain.llms import OpenAI\n",
    "from langchain import PromptTemplate"
   ]
  },
  {
   "cell_type": "code",
   "execution_count": 4,
   "id": "046113c5-dee5-40fe-98d4-cda2efeaf48b",
   "metadata": {},
   "outputs": [],
   "source": [
    "llm = OpenAI(model='text-davinci-003')"
   ]
  },
  {
   "cell_type": "code",
   "execution_count": 6,
   "id": "90ed9ee2-6586-44de-bf04-bc468285b4d2",
   "metadata": {},
   "outputs": [],
   "source": [
    "prompt_content = \"\"\"\n",
    "    {text}\n",
    "    can you create a post for tweet in {word_count} words for the above?\n",
    "\"\"\"\n",
    "prompt_template = PromptTemplate(\n",
    "    input_variables=['text','word_count'],\n",
    "    template=prompt_content\n",
    ")\n"
   ]
  },
  {
   "cell_type": "code",
   "execution_count": 8,
   "id": "debd5e89-9562-4c40-a34b-b7caaf86a1bd",
   "metadata": {},
   "outputs": [
    {
     "name": "stdout",
     "output_type": "stream",
     "text": [
      "\n",
      "    I love trips, and i have been to 6 countries.I plan to visit a few more.\n",
      "    can you create a post for tweet in 30 words for the above?\n",
      "\n"
     ]
    }
   ],
   "source": [
    "prompt = prompt_template.format(word_count=30,text='I love trips, and i have been to 6 countries.I plan to visit a few more.')\n",
    "print(prompt)"
   ]
  },
  {
   "cell_type": "code",
   "execution_count": 10,
   "id": "67260d5f-8490-4d6c-a8d4-216fb01fa020",
   "metadata": {},
   "outputs": [
    {
     "name": "stdout",
     "output_type": "stream",
     "text": [
      "\n",
      "Ready for my next adventure! I've been to 6 countries already and I'm excited to explore more. Who else loves taking trips around the world? #travel #explore #adventure\n"
     ]
    }
   ],
   "source": [
    "print(llm(prompt))"
   ]
  }
 ],
 "metadata": {
  "kernelspec": {
   "display_name": "Python 3 (ipykernel)",
   "language": "python",
   "name": "python3"
  },
  "language_info": {
   "codemirror_mode": {
    "name": "ipython",
    "version": 3
   },
   "file_extension": ".py",
   "mimetype": "text/x-python",
   "name": "python",
   "nbconvert_exporter": "python",
   "pygments_lexer": "ipython3",
   "version": "3.10.12"
  }
 },
 "nbformat": 4,
 "nbformat_minor": 5
}
