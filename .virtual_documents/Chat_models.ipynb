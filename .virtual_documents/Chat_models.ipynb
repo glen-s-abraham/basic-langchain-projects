import os
from dotenv import load_dotenv,find_dotenv
load_dotenv(find_dotenv())


from langchain.chat_models import ChatOpenAI
from langchain.schema import HumanMessage,SystemMessage,AIMessage


chat = ChatOpenAI(temperature=.7,model='gpt-3.5-turbo')


chat([
    SystemMessage(content='You are a sarcastic AI assistant'),
    HumanMessage(content='Please answer in 30 words:How can i learn driving a car in 30 seconds')
])
