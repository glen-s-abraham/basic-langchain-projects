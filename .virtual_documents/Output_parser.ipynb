import os
from dotenv import load_dotenv,find_dotenv
load_dotenv(find_dotenv())


from langchain.llms import OpenAI
from langchain.prompts import PromptTemplate
from langchain.output_parsers import CommaSeparatedListOutputParser
llm=OpenAI(model='text-davinci-003')


output_parser = CommaSeparatedListOutputParser()
format_instructions = output_parser.get_format_instructions()
format_instructions


prompt = PromptTemplate(input_variables=['query'],partial_variables={'format_instructions':format_instructions},template="Provide 5 examples of {query}.\n {format_instructions}")


print(prompt.format(query='currencies'))


print(llm(prompt.format(query='currencies')))


from langchain.output_parsers import StructuredOutputParser,ResponseSchema


response_schemas = [
    ResponseSchema(name='currency',description="answer to the user's question"),
    ResponseSchema(name='abbreviation',description="What is the abbreviation of the currency")
]
json_parser = StructuredOutputParser.from_response_schemas(response_schemas=response_schemas)
json_parser


prompt = PromptTemplate(input_variables=['query'],partial_variables={'format_instructions':json_parser.get_format_instructions()},template="Provide 5 examples of {query}.\n {format_instructions}")


print(prompt.format(query='currencies'))


output = llm(prompt.format(query='currencies')) 
print(output)


type(json_parser.parse(output))
