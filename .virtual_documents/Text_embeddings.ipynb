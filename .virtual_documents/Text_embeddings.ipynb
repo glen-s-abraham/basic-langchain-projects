import os
from dotenv import load_dotenv,find_dotenv
load_dotenv(find_dotenv())


from langchain.embeddings import OpenAIEmbeddings


embeddings = OpenAIEmbeddings()
text = 'Hey buddy'
text_embeddig = embeddings.embed_query(text)
print(text_embeddig)
