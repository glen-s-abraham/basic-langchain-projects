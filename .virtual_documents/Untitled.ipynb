


import os
from dotenv import load_dotenv,find_dotenv
load_dotenv(find_dotenv())


from langchain.llms import OpenAI


llm = OpenAI(model='text-davinci-003')


query = 'What is the currency of india?'
completion = llm(query)
print(completion)





from langchain.llms import HuggingFaceHub


llm = HuggingFaceHub(repo_id="google/flan-t5-large")


query = 'What is the currency of india?'
completion = llm(query)
print(completion)
