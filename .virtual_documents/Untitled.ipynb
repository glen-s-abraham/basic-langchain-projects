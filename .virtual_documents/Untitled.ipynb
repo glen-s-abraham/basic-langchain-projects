import os
from dotenv import load_dotenv,find_dotenv
load_dotenv(find_dotenv())


from langchain import OpenAI
from langchain.chains import LLMChain,ConversationChain
from langchain.memory import ConversationBufferMemory,ConversationBufferWindowMemory,ConversationSummaryMemory
import tiktoken
from langchain.memory import ConversationTokenBufferMemory





conversation = ConversationChain(
    llm = OpenAI(),
    verbose=True,
    memory=ConversationBufferMemory()
)


conversation.run("My name is glen")


conversation.run("What is 1+1")


conversation.run("What is my name?")


conversation.memory.buffer





conversation = ConversationChain(
    llm = OpenAI(),
    verbose=True,
    memory=ConversationBufferWindowMemory(k=1)
)


conversation.run("My name is glen")


conversation.run("What is my name?")


conversation.run("What is 1+1")


conversation.run("What is my name?")





conversation = ConversationChain(
    llm = OpenAI(),
    verbose=True,
    memory=ConversationSummaryMemory(llm=OpenAI())
)


conversation.run("My name is glen")


conversation.memory.buffer



