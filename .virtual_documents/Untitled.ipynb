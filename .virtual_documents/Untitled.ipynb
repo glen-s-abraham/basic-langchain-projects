import os
from dotenv import load_dotenv,find_dotenv
load_dotenv(find_dotenv())


from langchain.llms import OpenAI
from langchain.prompts import PromptTemplate,FewShotPromptTemplate
llm=OpenAI(model='text-davinci-003')


examples = [
   {'query':'What is a mobile?','answer':'A mobile is a magical device that fits in your pocket,like a mini enchanted playground,It has games, videos and much more.'},
   {'query':'What are your dreams?','answer':'My dreams are like colorfull adventures, where I become a superhero and save the day! I dream of giggles,ice cream parties, and I have a pet dragon named sparcles.'},
]


example_template = """
    Question:{query}
    Response:{answer}
"""
example_prompt = PromptTemplate(input_variables=['query','answer'],template=example_template)


prefix = """You are a 5 year old girl,Who is funny, mischevious and sweet:
    here are some examples:
"""
suffix = """
Question:{user_input}
Response:
"""


fewshot_prompt = FewShotPromptTemplate(
    prefix=prefix,
    suffix=suffix,
    example_prompt=example_prompt,   
    examples=examples,
    input_variables=['user_input'],
    example_separator='\n\n'
)


query = "What is a house?"
print(fewshot_prompt.format(user_input=query))


print(llm(fewshot_prompt.format(user_input=query)))


from langchain.prompts.example_selector import LengthBasedExampleSelector


example_selector = LengthBasedExampleSelector(
    examples=examples,
    example_prompt=example_prompt,
    max_length=25
)


new_prompt_template = FewShotPromptTemplate(
    prefix=prefix,
    suffix=suffix,
    example_prompt=example_prompt,   
    input_variables=['user_input'],
    example_separator='\n\n',
    example_selector=example_selector
)


print(llm(new_prompt_template.format(user_input=query)))
