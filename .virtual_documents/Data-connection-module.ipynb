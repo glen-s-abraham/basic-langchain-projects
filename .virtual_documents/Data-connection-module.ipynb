import os
from dotenv import load_dotenv,find_dotenv
load_dotenv(find_dotenv())


from langchain.document_loaders import TextLoader
from langchain.text_splitter import RecursiveCharacterTextSplitter


loader = TextLoader('docs/india.txt')


splitter = RecursiveCharacterTextSplitter(chunk_size=100,chunk_overlap=20)
splits = splitter.split_documents(loader.load())


from langchain.embeddings import OpenAIEmbeddings
from langchain.vectorstores import Chroma


embedding = OpenAIEmbeddings()
vectordb = Chroma.from_documents(splits,embedding=embedding)


retriever = vectordb.as_retriever()


retriever.get_relevant_documents("What is the capital of india?")
