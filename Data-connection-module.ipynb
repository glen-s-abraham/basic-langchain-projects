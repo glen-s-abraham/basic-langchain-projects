{
 "cells": [
  {
   "cell_type": "code",
   "execution_count": 1,
   "id": "51a6c9f6-798d-4c21-af2a-2ac4c7a67f0b",
   "metadata": {},
   "outputs": [
    {
     "data": {
      "text/plain": [
       "True"
      ]
     },
     "execution_count": 1,
     "metadata": {},
     "output_type": "execute_result"
    }
   ],
   "source": [
    "import os\n",
    "from dotenv import load_dotenv,find_dotenv\n",
    "load_dotenv(find_dotenv())"
   ]
  },
  {
   "cell_type": "code",
   "execution_count": 2,
   "id": "f3e06d15-8e96-413e-ba63-01e8c64295a4",
   "metadata": {},
   "outputs": [],
   "source": [
    "from langchain.document_loaders import TextLoader\n",
    "from langchain.text_splitter import RecursiveCharacterTextSplitter"
   ]
  },
  {
   "cell_type": "code",
   "execution_count": 4,
   "id": "d5a0a399-710e-46c4-97ab-5187253afecc",
   "metadata": {},
   "outputs": [],
   "source": [
    "loader = TextLoader('docs/india.txt')"
   ]
  },
  {
   "cell_type": "code",
   "execution_count": 7,
   "id": "3d6009d6-5488-4029-a5d6-a5c0dd53fae5",
   "metadata": {},
   "outputs": [],
   "source": [
    "splitter = RecursiveCharacterTextSplitter(chunk_size=100,chunk_overlap=20)\n",
    "splits = splitter.split_documents(loader.load())"
   ]
  },
  {
   "cell_type": "code",
   "execution_count": 13,
   "id": "b38f6356-800f-4c5a-a4c0-2a6f47dd40d7",
   "metadata": {},
   "outputs": [],
   "source": [
    "from langchain.embeddings import OpenAIEmbeddings\n",
    "from langchain.vectorstores import Chroma"
   ]
  },
  {
   "cell_type": "code",
   "execution_count": 14,
   "id": "388c6e8f-0b53-44b5-86ef-fb72e46a70fc",
   "metadata": {},
   "outputs": [],
   "source": [
    "embedding = OpenAIEmbeddings()\n",
    "vectordb = Chroma.from_documents(splits,embedding=embedding)"
   ]
  },
  {
   "cell_type": "code",
   "execution_count": 17,
   "id": "0e9344ec-666a-4040-b0c2-a595cddb2d65",
   "metadata": {},
   "outputs": [],
   "source": [
    "retriever = vectordb.as_retriever()"
   ]
  },
  {
   "cell_type": "code",
   "execution_count": 18,
   "id": "60723203-be3c-494a-a64c-39ff11ab62dc",
   "metadata": {},
   "outputs": [
    {
     "data": {
      "text/plain": [
       "[Document(page_content='Capital\\tNew Delhi\\n28°36′50″N 77°12′30″E\\nLargest city\\t\\nMumbai (city proper)', metadata={'source': 'docs/india.txt'}),\n",
       " Document(page_content='2:26\\nImage of a globe centred on India, with India highlighted.', metadata={'source': 'docs/india.txt'}),\n",
       " Document(page_content='This article is about the Republic of India. For other uses, see India (disambiguation).', metadata={'source': 'docs/india.txt'}),\n",
       " Document(page_content='Early modern India', metadata={'source': 'docs/india.txt'})]"
      ]
     },
     "execution_count": 18,
     "metadata": {},
     "output_type": "execute_result"
    }
   ],
   "source": [
    "retriever.get_relevant_documents(\"What is the capital of india?\")"
   ]
  }
 ],
 "metadata": {
  "kernelspec": {
   "display_name": "Python 3 (ipykernel)",
   "language": "python",
   "name": "python3"
  },
  "language_info": {
   "codemirror_mode": {
    "name": "ipython",
    "version": 3
   },
   "file_extension": ".py",
   "mimetype": "text/x-python",
   "name": "python",
   "nbconvert_exporter": "python",
   "pygments_lexer": "ipython3",
   "version": "3.10.12"
  }
 },
 "nbformat": 4,
 "nbformat_minor": 5
}
