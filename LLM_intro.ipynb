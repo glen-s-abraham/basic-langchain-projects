{
 "cells": [
  {
   "cell_type": "markdown",
   "id": "95224903-213d-44a2-a231-38cc3afe99d7",
   "metadata": {},
   "source": [
    "#### Open Ai"
   ]
  },
  {
   "cell_type": "code",
   "execution_count": 5,
   "id": "cca6c608-9000-46e6-aecd-01ab7810ea71",
   "metadata": {},
   "outputs": [
    {
     "data": {
      "text/plain": [
       "True"
      ]
     },
     "execution_count": 5,
     "metadata": {},
     "output_type": "execute_result"
    }
   ],
   "source": [
    "import os\n",
    "from dotenv import load_dotenv,find_dotenv\n",
    "load_dotenv(find_dotenv())"
   ]
  },
  {
   "cell_type": "code",
   "execution_count": 2,
   "id": "d5360060-7c33-4718-95f6-c59059ebc1c2",
   "metadata": {},
   "outputs": [],
   "source": [
    "from langchain.llms import OpenAI"
   ]
  },
  {
   "cell_type": "code",
   "execution_count": 3,
   "id": "ff8cc5e4-802c-4334-9a80-fb02cb5d510c",
   "metadata": {},
   "outputs": [],
   "source": [
    "llm = OpenAI(model='text-davinci-003')"
   ]
  },
  {
   "cell_type": "code",
   "execution_count": 4,
   "id": "bd7987c4-d716-4cb1-96b5-a230eef96d0f",
   "metadata": {},
   "outputs": [
    {
     "name": "stdout",
     "output_type": "stream",
     "text": [
      "\n",
      "\n",
      "The currency of India is the Indian Rupee (INR).\n"
     ]
    }
   ],
   "source": [
    "query = 'What is the currency of india?'\n",
    "completion = llm(query)\n",
    "print(completion)"
   ]
  },
  {
   "cell_type": "markdown",
   "id": "c0a6cfee-4914-4b70-a2a6-31a0b4a0a1f2",
   "metadata": {},
   "source": [
    "#### Opensource Huggingface"
   ]
  },
  {
   "cell_type": "code",
   "execution_count": 6,
   "id": "c475d0f9-0bb6-4935-a039-3071c007d502",
   "metadata": {},
   "outputs": [],
   "source": [
    "from langchain.llms import HuggingFaceHub"
   ]
  },
  {
   "cell_type": "code",
   "execution_count": 7,
   "id": "18c0ccc3-ae0c-48fa-978c-ac77bb342624",
   "metadata": {},
   "outputs": [],
   "source": [
    "llm = HuggingFaceHub(repo_id=\"google/flan-t5-large\")"
   ]
  },
  {
   "cell_type": "code",
   "execution_count": 8,
   "id": "2ff0fdb5-ec2a-4839-9c0c-197e6b8754a1",
   "metadata": {},
   "outputs": [
    {
     "name": "stdout",
     "output_type": "stream",
     "text": [
      "Indian rupee\n"
     ]
    }
   ],
   "source": [
    "query = 'What is the currency of india?'\n",
    "completion = llm(query)\n",
    "print(completion)"
   ]
  }
 ],
 "metadata": {
  "kernelspec": {
   "display_name": "Python 3 (ipykernel)",
   "language": "python",
   "name": "python3"
  },
  "language_info": {
   "codemirror_mode": {
    "name": "ipython",
    "version": 3
   },
   "file_extension": ".py",
   "mimetype": "text/x-python",
   "name": "python",
   "nbconvert_exporter": "python",
   "pygments_lexer": "ipython3",
   "version": "3.10.12"
  }
 },
 "nbformat": 4,
 "nbformat_minor": 5
}
